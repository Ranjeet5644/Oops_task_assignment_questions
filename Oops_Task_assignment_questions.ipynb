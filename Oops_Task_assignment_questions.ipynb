{
 "cells": [
  {
   "cell_type": "markdown",
   "id": "b82f8030",
   "metadata": {},
   "source": [
    "Q1."
   ]
  },
  {
   "cell_type": "code",
   "execution_count": 1,
   "id": "9005772a",
   "metadata": {},
   "outputs": [],
   "source": [
    "class vehicle :\n",
    "    def __init__(self, name_of_vehicle,max_speed,average_of_vehicle):\n",
    "        self.name_of_vehicle = name_of_vehicle\n",
    "        self.max_speed = max_speed\n",
    "        self.average_of_vehicle = average_of_vehicle\n",
    "        \n",
    "    def details_of_vehicle(self):\n",
    "        return self.name_of_vehicle,self.max_speed,self.average_of_vehicle\n",
    "    "
   ]
  },
  {
   "cell_type": "code",
   "execution_count": 2,
   "id": "79a78420",
   "metadata": {},
   "outputs": [],
   "source": [
    "obj = vehicle(\"bmw\",140,70)"
   ]
  },
  {
   "cell_type": "code",
   "execution_count": 3,
   "id": "242a8496",
   "metadata": {},
   "outputs": [
    {
     "data": {
      "text/plain": [
       "('bmw', 140, 70)"
      ]
     },
     "execution_count": 3,
     "metadata": {},
     "output_type": "execute_result"
    }
   ],
   "source": [
    "obj.details_of_vehicle()"
   ]
  },
  {
   "cell_type": "markdown",
   "id": "695d5272",
   "metadata": {},
   "source": [
    "Q2."
   ]
  },
  {
   "cell_type": "code",
   "execution_count": 4,
   "id": "0a3c0130",
   "metadata": {},
   "outputs": [],
   "source": [
    "class vehicle :\n",
    "    def __init__(self, name_of_vehicle,max_speed,average_of_vehicle):\n",
    "        self.name_of_vehicle = name_of_vehicle\n",
    "        self.max_speed = max_speed\n",
    "        self.average_of_vehicle = average_of_vehicle\n",
    "        \n",
    "    def details_of_vehicle(self):\n",
    "        return self.name_of_vehicle,self.max_speed,self.average_of_vehicle\n",
    "    "
   ]
  },
  {
   "cell_type": "code",
   "execution_count": 5,
   "id": "2e28b652",
   "metadata": {},
   "outputs": [],
   "source": [
    "class car(vehicle):\n",
    "    \n",
    "    def seating_capacity(self,capacity) :\n",
    "        print(capacity)\n",
    "    "
   ]
  },
  {
   "cell_type": "code",
   "execution_count": 8,
   "id": "fdce2e4b",
   "metadata": {},
   "outputs": [],
   "source": [
    "obj2 = car(\"bmw\", 140 , 70)"
   ]
  },
  {
   "cell_type": "code",
   "execution_count": 9,
   "id": "53e8d539",
   "metadata": {},
   "outputs": [
    {
     "name": "stdout",
     "output_type": "stream",
     "text": [
      "5\n"
     ]
    }
   ],
   "source": [
    "obj2.seating_capacity(5)"
   ]
  },
  {
   "cell_type": "code",
   "execution_count": 10,
   "id": "f742677f",
   "metadata": {},
   "outputs": [
    {
     "data": {
      "text/plain": [
       "'bmw'"
      ]
     },
     "execution_count": 10,
     "metadata": {},
     "output_type": "execute_result"
    }
   ],
   "source": [
    "obj2.name_of_vehicle"
   ]
  },
  {
   "cell_type": "markdown",
   "id": "f1f979a1",
   "metadata": {},
   "source": [
    "Q3."
   ]
  },
  {
   "cell_type": "markdown",
   "id": "e9dfe7c9",
   "metadata": {},
   "source": [
    "When a class is derived from more than one base class it is called multiple Inheritance. The derived class inherits all the features of the base case.\n",
    " "
   ]
  },
  {
   "cell_type": "code",
   "execution_count": 12,
   "id": "f4b7bbd6",
   "metadata": {},
   "outputs": [],
   "source": [
    "class student: # base class 1\n",
    "    \n",
    "    def student_details(self, name , email, number):\n",
    "        \n",
    "        print(name, email, number)\n",
    "        "
   ]
  },
  {
   "cell_type": "code",
   "execution_count": 13,
   "id": "e4024f98",
   "metadata": {},
   "outputs": [],
   "source": [
    "class mentor: # base class 2\n",
    "    \n",
    "    def mentor_details(self , name,  email , number):\n",
    "        \n",
    "        print(name, email , number)"
   ]
  },
  {
   "cell_type": "code",
   "execution_count": 14,
   "id": "f603a55f",
   "metadata": {},
   "outputs": [],
   "source": [
    "class multi_class(student, mentor): # derived class \n",
    "    pass\n",
    "    "
   ]
  },
  {
   "cell_type": "code",
   "execution_count": 15,
   "id": "70d10015",
   "metadata": {},
   "outputs": [],
   "source": [
    "obj =multi_class() "
   ]
  },
  {
   "cell_type": "code",
   "execution_count": 16,
   "id": "cf548eca",
   "metadata": {},
   "outputs": [
    {
     "name": "stdout",
     "output_type": "stream",
     "text": [
      "sudh sudh@gmail.com 6234675478\n"
     ]
    }
   ],
   "source": [
    "obj.mentor_details(\"sudh\",\"sudh@gmail.com\",6234675478)"
   ]
  },
  {
   "cell_type": "code",
   "execution_count": 17,
   "id": "2214ac37",
   "metadata": {},
   "outputs": [
    {
     "name": "stdout",
     "output_type": "stream",
     "text": [
      "Ranjeet ranjeet@gmail.com 7656432903\n"
     ]
    }
   ],
   "source": [
    "obj.student_details(\"Ranjeet\",\"ranjeet@gmail.com\",7656432903)"
   ]
  },
  {
   "cell_type": "markdown",
   "id": "9ab94816",
   "metadata": {},
   "source": [
    "Q4."
   ]
  },
  {
   "cell_type": "code",
   "execution_count": 25,
   "id": "729afa7a",
   "metadata": {},
   "outputs": [],
   "source": [
    "class pwskills :\n",
    "    def __init__(self, course_price, course_name):\n",
    "        self.__course_price = course_price\n",
    "        self.course_name = course_name\n",
    "         \n",
    "    @property\n",
    "    def course_price_access(self):\n",
    "        return self.__course_price \n",
    "    \n",
    "    \n",
    "    @course_price_access.setter\n",
    "    def course_price_set(self,price):\n",
    "        \n",
    "        \n",
    "        self.__course_price = price\n",
    "        "
   ]
  },
  {
   "cell_type": "code",
   "execution_count": 26,
   "id": "7c695c5d",
   "metadata": {},
   "outputs": [],
   "source": [
    "pw =pwskills(3500, \"data sience master\")"
   ]
  },
  {
   "cell_type": "code",
   "execution_count": 27,
   "id": "7122112b",
   "metadata": {},
   "outputs": [
    {
     "data": {
      "text/plain": [
       "'data sience master'"
      ]
     },
     "execution_count": 27,
     "metadata": {},
     "output_type": "execute_result"
    }
   ],
   "source": [
    "pw.course_name"
   ]
  },
  {
   "cell_type": "code",
   "execution_count": 28,
   "id": "0d1d1126",
   "metadata": {},
   "outputs": [
    {
     "data": {
      "text/plain": [
       "3500"
      ]
     },
     "execution_count": 28,
     "metadata": {},
     "output_type": "execute_result"
    }
   ],
   "source": [
    "pw.course_price_access"
   ]
  },
  {
   "cell_type": "code",
   "execution_count": 29,
   "id": "b9084ad7",
   "metadata": {},
   "outputs": [],
   "source": [
    "pw.course_price_set= 5000"
   ]
  },
  {
   "cell_type": "code",
   "execution_count": 30,
   "id": "03765779",
   "metadata": {},
   "outputs": [
    {
     "data": {
      "text/plain": [
       "5000"
      ]
     },
     "execution_count": 30,
     "metadata": {},
     "output_type": "execute_result"
    }
   ],
   "source": [
    "pw.course_price_access"
   ]
  },
  {
   "cell_type": "markdown",
   "id": "11b2f917",
   "metadata": {},
   "source": [
    "Q5."
   ]
  },
  {
   "cell_type": "markdown",
   "id": "acd41b9b",
   "metadata": {},
   "source": [
    "Method overriding is a concept in object-oriented programming where a subclass provides a specific implementation of a method that is already defined in its superclass. When a method in the subclass has the same name and parameters as a method in the superclass, the subclass's method overrides the superclass's method."
   ]
  },
  {
   "cell_type": "code",
   "execution_count": 2,
   "id": "04ac3028",
   "metadata": {},
   "outputs": [],
   "source": [
    "class parent :\n",
    "    def __init__(self):\n",
    "        self.value =\"Inside parent\" \n",
    "        \n",
    "    def shows(self):\n",
    "        print( self.value)"
   ]
  },
  {
   "cell_type": "code",
   "execution_count": 4,
   "id": "c5387b43",
   "metadata": {},
   "outputs": [],
   "source": [
    "class child(parent):\n",
    "    def __init__(self):\n",
    "        self.value = \"inside child\"\n",
    "        \n",
    "    def shows(self):\n",
    "        print(self.value)"
   ]
  },
  {
   "cell_type": "code",
   "execution_count": 5,
   "id": "da690914",
   "metadata": {},
   "outputs": [],
   "source": [
    "obj =child() "
   ]
  },
  {
   "cell_type": "code",
   "execution_count": 7,
   "id": "c697f575",
   "metadata": {},
   "outputs": [
    {
     "name": "stdout",
     "output_type": "stream",
     "text": [
      "inside child\n"
     ]
    }
   ],
   "source": [
    "obj.shows()"
   ]
  },
  {
   "cell_type": "code",
   "execution_count": null,
   "id": "44351dfc",
   "metadata": {},
   "outputs": [],
   "source": []
  }
 ],
 "metadata": {
  "kernelspec": {
   "display_name": "Python 3 (ipykernel)",
   "language": "python",
   "name": "python3"
  },
  "language_info": {
   "codemirror_mode": {
    "name": "ipython",
    "version": 3
   },
   "file_extension": ".py",
   "mimetype": "text/x-python",
   "name": "python",
   "nbconvert_exporter": "python",
   "pygments_lexer": "ipython3",
   "version": "3.11.3"
  }
 },
 "nbformat": 4,
 "nbformat_minor": 5
}
